{
 "cells": [
  {
   "cell_type": "code",
   "execution_count": 1,
   "metadata": {},
   "outputs": [
    {
     "name": "stderr",
     "output_type": "stream",
     "text": [
      "24/12/20 14:24:03 WARN Utils: Your hostname, Shubhams-MacBook-Air.local resolves to a loopback address: 127.0.0.1; using 192.168.1.80 instead (on interface en0)\n",
      "24/12/20 14:24:03 WARN Utils: Set SPARK_LOCAL_IP if you need to bind to another address\n",
      "Setting default log level to \"WARN\".\n",
      "To adjust logging level use sc.setLogLevel(newLevel). For SparkR, use setLogLevel(newLevel).\n",
      "24/12/20 14:24:04 WARN NativeCodeLoader: Unable to load native-hadoop library for your platform... using builtin-java classes where applicable\n"
     ]
    },
    {
     "name": "stdout",
     "output_type": "stream",
     "text": [
      "<pyspark.sql.session.SparkSession object at 0x108bfed80>\n"
     ]
    }
   ],
   "source": [
    "\n",
    "# import pandas as pd\n",
    "# import glob\n",
    "# import os\n",
    "# import findspark\n",
    "# findspark.init()\n",
    "# from pyspark.sql import SparkSession\n",
    "\n",
    "# # Initialize Spark session\n",
    "# spark = SparkSession.builder \\\n",
    "#     .appName(\"Load Spark Partitioned Output\") \\\n",
    "#     .getOrCreate()\n",
    "\n",
    "# # Define the path to the partitioned output\n",
    "# partitioned_output_path = \"../data/processed/calgary_housing_features.csv/\"  # Update the path as needed\n",
    "\n",
    "# # Load the partitioned Spark output\n",
    "# print(\"Loading partitioned data...\")\n",
    "# df_spark = spark.read.csv(partitioned_output_path, header=True, inferSchema=True)\n",
    "# print(\"Data loaded into Spark DataFrame.\")\n",
    "\n",
    "# # Convert to Pandas for analysis if needed\n",
    "# print(\"Converting Spark DataFrame to Pandas...\")\n",
    "# df_pandas = df_spark.toPandas()\n",
    "# print(\"Data converted to Pandas DataFrame.\")\n",
    "import findspark\n",
    "findspark.init()\n",
    "from pyspark.sql import SparkSession\n",
    "\n",
    "spark = SparkSession.builder \\\n",
    "    .appName(\"Test Spark Session\") \\\n",
    "    .getOrCreate()\n",
    "\n",
    "print(spark)"
   ]
  },
  {
   "cell_type": "code",
   "execution_count": null,
   "metadata": {},
   "outputs": [],
   "source": []
  }
 ],
 "metadata": {
  "kernelspec": {
   "display_name": "Python 3",
   "language": "python",
   "name": "python3"
  },
  "language_info": {
   "codemirror_mode": {
    "name": "ipython",
    "version": 3
   },
   "file_extension": ".py",
   "mimetype": "text/x-python",
   "name": "python",
   "nbconvert_exporter": "python",
   "pygments_lexer": "ipython3",
   "version": "3.12.3"
  }
 },
 "nbformat": 4,
 "nbformat_minor": 2
}
